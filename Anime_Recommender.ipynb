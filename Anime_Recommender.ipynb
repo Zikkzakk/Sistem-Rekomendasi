{
  "nbformat": 4,
  "nbformat_minor": 0,
  "metadata": {
    "colab": {
      "provenance": [],
      "authorship_tag": "ABX9TyM97yUiQGve3YvmFB3O1I3j",
      "include_colab_link": true
    },
    "kernelspec": {
      "name": "python3",
      "display_name": "Python 3"
    },
    "language_info": {
      "name": "python"
    }
  },
  "cells": [
    {
      "cell_type": "markdown",
      "metadata": {
        "id": "view-in-github",
        "colab_type": "text"
      },
      "source": [
        "<a href=\"https://colab.research.google.com/github/Zikkzakk/Sistem-Rekomendasi/blob/main/Anime_Recommender.ipynb\" target=\"_parent\"><img src=\"https://colab.research.google.com/assets/colab-badge.svg\" alt=\"Open In Colab\"/></a>"
      ]
    },
    {
      "cell_type": "markdown",
      "source": [
        "# **Sistem Rekomendasi Anime**\n",
        "\n",
        "Halo! pada proyek ini saya menganalisa dataset anime berdasarkan beberapa variabel seperti skor, genre, dan tipe penayangan. Kemudian saya memvisualisasikannya berdasarkan genre, total episode, skor, dan total orang yang meninggalkan ulasan. Model pada proyek ini bekerja dengan cara membandingkan beberapa variabel tapi melalui persamaan kosinus.\n",
        "Ini adalah proyek rekomendasi pertama saya dan saya berusaha untuk terus meningkatkan kemampuan agar kedepannya dapat melakukan mengkombinasikan beberapa metode yang lebih baik.\n",
        "\n",
        "### **Credits**\n",
        "Terimakasih untuk user Kaggle Hernan Valdivieso karena telah menyediakan dataset untuk anime. \n",
        "https://www.kaggle.com/datasets/hernan4444/anime-recommendation-database-2020\n",
        "\n"
      ],
      "metadata": {
        "id": "iU9Hx61AlUXC"
      }
    },
    {
      "cell_type": "code",
      "execution_count": null,
      "metadata": {
        "id": "RsW2_wEJjId8"
      },
      "outputs": [],
      "source": [
        "#imports\n",
        "import pandas as pd\n",
        "import numpy as np\n",
        "\n",
        "import matplotlib.pyplot as plt\n",
        "import seaborn as sns\n",
        "\n",
        "from scipy.stats import pearsonr, ttest_ind, f_oneway\n",
        "\n",
        "from sklearn.metrics.pairwise import cosine_similarity\n",
        "from sklearn.feature_extraction.text import CountVectorizer"
      ]
    },
    {
      "cell_type": "code",
      "source": [
        "#Memasukan dataset ke dalam notebook\n",
        "anime = pd.read_csv('anime.csv')\n",
        "anime.head()"
      ],
      "metadata": {
        "colab": {
          "base_uri": "https://localhost:8080/",
          "height": 733
        },
        "id": "NB3tJnKWlKfb",
        "outputId": "462fe1f3-b9c2-4ac7-b1da-b22cdf97d9a8"
      },
      "execution_count": 15,
      "outputs": [
        {
          "output_type": "execute_result",
          "data": {
            "text/plain": [
              "   MAL_ID                             Name Score  \\\n",
              "0       1                     Cowboy Bebop  8.78   \n",
              "1       5  Cowboy Bebop: Tengoku no Tobira  8.39   \n",
              "2       6                           Trigun  8.24   \n",
              "3       7               Witch Hunter Robin  7.27   \n",
              "4       8                   Bouken Ou Beet  6.98   \n",
              "\n",
              "                                              Genres            English name  \\\n",
              "0    Action, Adventure, Comedy, Drama, Sci-Fi, Space            Cowboy Bebop   \n",
              "1              Action, Drama, Mystery, Sci-Fi, Space  Cowboy Bebop:The Movie   \n",
              "2  Action, Sci-Fi, Adventure, Comedy, Drama, Shounen                  Trigun   \n",
              "3  Action, Mystery, Police, Supernatural, Drama, ...      Witch Hunter Robin   \n",
              "4          Adventure, Fantasy, Shounen, Supernatural  Beet the Vandel Buster   \n",
              "\n",
              "                      Japanese name   Type Episodes  \\\n",
              "0                         カウボーイビバップ     TV       26   \n",
              "1                    カウボーイビバップ 天国の扉  Movie        1   \n",
              "2                             トライガン     TV       26   \n",
              "3  Witch Hunter ROBIN (ウイッチハンターロビン)     TV       26   \n",
              "4                            冒険王ビィト     TV       52   \n",
              "\n",
              "                          Aired    Premiered  ...  Score-10   Score-9  \\\n",
              "0   Apr 3, 1998 to Apr 24, 1999  Spring 1998  ...  229170.0  182126.0   \n",
              "1                   Sep 1, 2001      Unknown  ...   30043.0   49201.0   \n",
              "2   Apr 1, 1998 to Sep 30, 1998  Spring 1998  ...   50229.0   75651.0   \n",
              "3   Jul 2, 2002 to Dec 24, 2002  Summer 2002  ...    2182.0    4806.0   \n",
              "4  Sep 30, 2004 to Sep 29, 2005    Fall 2004  ...     312.0     529.0   \n",
              "\n",
              "    Score-8  Score-7  Score-6 Score-5 Score-4  Score-3  Score-2  Score-1  \n",
              "0  131625.0  62330.0  20688.0  8904.0  3184.0   1357.0    741.0   1580.0  \n",
              "1   49505.0  22632.0   5805.0  1877.0   577.0    221.0    109.0    379.0  \n",
              "2   86142.0  49432.0  15376.0  5838.0  1965.0    664.0    316.0    533.0  \n",
              "3   10128.0  11618.0   5709.0  2920.0  1083.0    353.0    164.0    131.0  \n",
              "4    1242.0   1713.0   1068.0   634.0   265.0     83.0     50.0     27.0  \n",
              "\n",
              "[5 rows x 35 columns]"
            ],
            "text/html": [
              "\n",
              "  <div id=\"df-15f397e3-fca9-48d0-9a6a-df18873a0b44\">\n",
              "    <div class=\"colab-df-container\">\n",
              "      <div>\n",
              "<style scoped>\n",
              "    .dataframe tbody tr th:only-of-type {\n",
              "        vertical-align: middle;\n",
              "    }\n",
              "\n",
              "    .dataframe tbody tr th {\n",
              "        vertical-align: top;\n",
              "    }\n",
              "\n",
              "    .dataframe thead th {\n",
              "        text-align: right;\n",
              "    }\n",
              "</style>\n",
              "<table border=\"1\" class=\"dataframe\">\n",
              "  <thead>\n",
              "    <tr style=\"text-align: right;\">\n",
              "      <th></th>\n",
              "      <th>MAL_ID</th>\n",
              "      <th>Name</th>\n",
              "      <th>Score</th>\n",
              "      <th>Genres</th>\n",
              "      <th>English name</th>\n",
              "      <th>Japanese name</th>\n",
              "      <th>Type</th>\n",
              "      <th>Episodes</th>\n",
              "      <th>Aired</th>\n",
              "      <th>Premiered</th>\n",
              "      <th>...</th>\n",
              "      <th>Score-10</th>\n",
              "      <th>Score-9</th>\n",
              "      <th>Score-8</th>\n",
              "      <th>Score-7</th>\n",
              "      <th>Score-6</th>\n",
              "      <th>Score-5</th>\n",
              "      <th>Score-4</th>\n",
              "      <th>Score-3</th>\n",
              "      <th>Score-2</th>\n",
              "      <th>Score-1</th>\n",
              "    </tr>\n",
              "  </thead>\n",
              "  <tbody>\n",
              "    <tr>\n",
              "      <th>0</th>\n",
              "      <td>1</td>\n",
              "      <td>Cowboy Bebop</td>\n",
              "      <td>8.78</td>\n",
              "      <td>Action, Adventure, Comedy, Drama, Sci-Fi, Space</td>\n",
              "      <td>Cowboy Bebop</td>\n",
              "      <td>カウボーイビバップ</td>\n",
              "      <td>TV</td>\n",
              "      <td>26</td>\n",
              "      <td>Apr 3, 1998 to Apr 24, 1999</td>\n",
              "      <td>Spring 1998</td>\n",
              "      <td>...</td>\n",
              "      <td>229170.0</td>\n",
              "      <td>182126.0</td>\n",
              "      <td>131625.0</td>\n",
              "      <td>62330.0</td>\n",
              "      <td>20688.0</td>\n",
              "      <td>8904.0</td>\n",
              "      <td>3184.0</td>\n",
              "      <td>1357.0</td>\n",
              "      <td>741.0</td>\n",
              "      <td>1580.0</td>\n",
              "    </tr>\n",
              "    <tr>\n",
              "      <th>1</th>\n",
              "      <td>5</td>\n",
              "      <td>Cowboy Bebop: Tengoku no Tobira</td>\n",
              "      <td>8.39</td>\n",
              "      <td>Action, Drama, Mystery, Sci-Fi, Space</td>\n",
              "      <td>Cowboy Bebop:The Movie</td>\n",
              "      <td>カウボーイビバップ 天国の扉</td>\n",
              "      <td>Movie</td>\n",
              "      <td>1</td>\n",
              "      <td>Sep 1, 2001</td>\n",
              "      <td>Unknown</td>\n",
              "      <td>...</td>\n",
              "      <td>30043.0</td>\n",
              "      <td>49201.0</td>\n",
              "      <td>49505.0</td>\n",
              "      <td>22632.0</td>\n",
              "      <td>5805.0</td>\n",
              "      <td>1877.0</td>\n",
              "      <td>577.0</td>\n",
              "      <td>221.0</td>\n",
              "      <td>109.0</td>\n",
              "      <td>379.0</td>\n",
              "    </tr>\n",
              "    <tr>\n",
              "      <th>2</th>\n",
              "      <td>6</td>\n",
              "      <td>Trigun</td>\n",
              "      <td>8.24</td>\n",
              "      <td>Action, Sci-Fi, Adventure, Comedy, Drama, Shounen</td>\n",
              "      <td>Trigun</td>\n",
              "      <td>トライガン</td>\n",
              "      <td>TV</td>\n",
              "      <td>26</td>\n",
              "      <td>Apr 1, 1998 to Sep 30, 1998</td>\n",
              "      <td>Spring 1998</td>\n",
              "      <td>...</td>\n",
              "      <td>50229.0</td>\n",
              "      <td>75651.0</td>\n",
              "      <td>86142.0</td>\n",
              "      <td>49432.0</td>\n",
              "      <td>15376.0</td>\n",
              "      <td>5838.0</td>\n",
              "      <td>1965.0</td>\n",
              "      <td>664.0</td>\n",
              "      <td>316.0</td>\n",
              "      <td>533.0</td>\n",
              "    </tr>\n",
              "    <tr>\n",
              "      <th>3</th>\n",
              "      <td>7</td>\n",
              "      <td>Witch Hunter Robin</td>\n",
              "      <td>7.27</td>\n",
              "      <td>Action, Mystery, Police, Supernatural, Drama, ...</td>\n",
              "      <td>Witch Hunter Robin</td>\n",
              "      <td>Witch Hunter ROBIN (ウイッチハンターロビン)</td>\n",
              "      <td>TV</td>\n",
              "      <td>26</td>\n",
              "      <td>Jul 2, 2002 to Dec 24, 2002</td>\n",
              "      <td>Summer 2002</td>\n",
              "      <td>...</td>\n",
              "      <td>2182.0</td>\n",
              "      <td>4806.0</td>\n",
              "      <td>10128.0</td>\n",
              "      <td>11618.0</td>\n",
              "      <td>5709.0</td>\n",
              "      <td>2920.0</td>\n",
              "      <td>1083.0</td>\n",
              "      <td>353.0</td>\n",
              "      <td>164.0</td>\n",
              "      <td>131.0</td>\n",
              "    </tr>\n",
              "    <tr>\n",
              "      <th>4</th>\n",
              "      <td>8</td>\n",
              "      <td>Bouken Ou Beet</td>\n",
              "      <td>6.98</td>\n",
              "      <td>Adventure, Fantasy, Shounen, Supernatural</td>\n",
              "      <td>Beet the Vandel Buster</td>\n",
              "      <td>冒険王ビィト</td>\n",
              "      <td>TV</td>\n",
              "      <td>52</td>\n",
              "      <td>Sep 30, 2004 to Sep 29, 2005</td>\n",
              "      <td>Fall 2004</td>\n",
              "      <td>...</td>\n",
              "      <td>312.0</td>\n",
              "      <td>529.0</td>\n",
              "      <td>1242.0</td>\n",
              "      <td>1713.0</td>\n",
              "      <td>1068.0</td>\n",
              "      <td>634.0</td>\n",
              "      <td>265.0</td>\n",
              "      <td>83.0</td>\n",
              "      <td>50.0</td>\n",
              "      <td>27.0</td>\n",
              "    </tr>\n",
              "  </tbody>\n",
              "</table>\n",
              "<p>5 rows × 35 columns</p>\n",
              "</div>\n",
              "      <button class=\"colab-df-convert\" onclick=\"convertToInteractive('df-15f397e3-fca9-48d0-9a6a-df18873a0b44')\"\n",
              "              title=\"Convert this dataframe to an interactive table.\"\n",
              "              style=\"display:none;\">\n",
              "        \n",
              "  <svg xmlns=\"http://www.w3.org/2000/svg\" height=\"24px\"viewBox=\"0 0 24 24\"\n",
              "       width=\"24px\">\n",
              "    <path d=\"M0 0h24v24H0V0z\" fill=\"none\"/>\n",
              "    <path d=\"M18.56 5.44l.94 2.06.94-2.06 2.06-.94-2.06-.94-.94-2.06-.94 2.06-2.06.94zm-11 1L8.5 8.5l.94-2.06 2.06-.94-2.06-.94L8.5 2.5l-.94 2.06-2.06.94zm10 10l.94 2.06.94-2.06 2.06-.94-2.06-.94-.94-2.06-.94 2.06-2.06.94z\"/><path d=\"M17.41 7.96l-1.37-1.37c-.4-.4-.92-.59-1.43-.59-.52 0-1.04.2-1.43.59L10.3 9.45l-7.72 7.72c-.78.78-.78 2.05 0 2.83L4 21.41c.39.39.9.59 1.41.59.51 0 1.02-.2 1.41-.59l7.78-7.78 2.81-2.81c.8-.78.8-2.07 0-2.86zM5.41 20L4 18.59l7.72-7.72 1.47 1.35L5.41 20z\"/>\n",
              "  </svg>\n",
              "      </button>\n",
              "      \n",
              "  <style>\n",
              "    .colab-df-container {\n",
              "      display:flex;\n",
              "      flex-wrap:wrap;\n",
              "      gap: 12px;\n",
              "    }\n",
              "\n",
              "    .colab-df-convert {\n",
              "      background-color: #E8F0FE;\n",
              "      border: none;\n",
              "      border-radius: 50%;\n",
              "      cursor: pointer;\n",
              "      display: none;\n",
              "      fill: #1967D2;\n",
              "      height: 32px;\n",
              "      padding: 0 0 0 0;\n",
              "      width: 32px;\n",
              "    }\n",
              "\n",
              "    .colab-df-convert:hover {\n",
              "      background-color: #E2EBFA;\n",
              "      box-shadow: 0px 1px 2px rgba(60, 64, 67, 0.3), 0px 1px 3px 1px rgba(60, 64, 67, 0.15);\n",
              "      fill: #174EA6;\n",
              "    }\n",
              "\n",
              "    [theme=dark] .colab-df-convert {\n",
              "      background-color: #3B4455;\n",
              "      fill: #D2E3FC;\n",
              "    }\n",
              "\n",
              "    [theme=dark] .colab-df-convert:hover {\n",
              "      background-color: #434B5C;\n",
              "      box-shadow: 0px 1px 3px 1px rgba(0, 0, 0, 0.15);\n",
              "      filter: drop-shadow(0px 1px 2px rgba(0, 0, 0, 0.3));\n",
              "      fill: #FFFFFF;\n",
              "    }\n",
              "  </style>\n",
              "\n",
              "      <script>\n",
              "        const buttonEl =\n",
              "          document.querySelector('#df-15f397e3-fca9-48d0-9a6a-df18873a0b44 button.colab-df-convert');\n",
              "        buttonEl.style.display =\n",
              "          google.colab.kernel.accessAllowed ? 'block' : 'none';\n",
              "\n",
              "        async function convertToInteractive(key) {\n",
              "          const element = document.querySelector('#df-15f397e3-fca9-48d0-9a6a-df18873a0b44');\n",
              "          const dataTable =\n",
              "            await google.colab.kernel.invokeFunction('convertToInteractive',\n",
              "                                                     [key], {});\n",
              "          if (!dataTable) return;\n",
              "\n",
              "          const docLinkHtml = 'Like what you see? Visit the ' +\n",
              "            '<a target=\"_blank\" href=https://colab.research.google.com/notebooks/data_table.ipynb>data table notebook</a>'\n",
              "            + ' to learn more about interactive tables.';\n",
              "          element.innerHTML = '';\n",
              "          dataTable['output_type'] = 'display_data';\n",
              "          await google.colab.output.renderOutput(dataTable, element);\n",
              "          const docLink = document.createElement('div');\n",
              "          docLink.innerHTML = docLinkHtml;\n",
              "          element.appendChild(docLink);\n",
              "        }\n",
              "      </script>\n",
              "    </div>\n",
              "  </div>\n",
              "  "
            ]
          },
          "metadata": {},
          "execution_count": 15
        }
      ]
    },
    {
      "cell_type": "code",
      "source": [
        "#Cleaning. Dataframe hanya akan memasukkan anime TV. Berarti OVA (anime original & video) dan Movie dihilangkan\n",
        "anime = anime.dropna()\n",
        "anime = anime.loc[anime['Type'] == 'TV']\n",
        "anime = anime.loc[anime['Episodes'] != 'Unknown']\n",
        "anime = anime.loc[anime['Score'] != 'Unknown']"
      ],
      "metadata": {
        "id": "XhVHDqajnoYQ"
      },
      "execution_count": 16,
      "outputs": []
    },
    {
      "cell_type": "code",
      "source": [
        "#Merubah tipe data yang awalnya strings\n",
        "anime['Episodes'] = anime['Episodes'].astype(int)\n",
        "anime['Score'] = anime['Score'].astype(float)"
      ],
      "metadata": {
        "id": "rWNmZlCypZkO"
      },
      "execution_count": 17,
      "outputs": []
    },
    {
      "cell_type": "markdown",
      "source": [
        "## **Kolom Genre**\n",
        "Saat ini, column untuk genre sedikit aneh untuk diolah dan membuat sulit untuk dianalisa. Karena variabel disimpan sebagai string daripada list, anime yang berlabel (Action, Adventure) akan dikategorikan berbeda dari yang berlabel (Adventure, Action). Untuk menghindari ini, saya akan mengulangi setiap indeks di kolom genre untuk mengidentifikasi anime mana yang memiliki genre mana dalam format yang lebih rapi."
      ],
      "metadata": {
        "id": "AqzKu143vOqA"
      }
    },
    {
      "cell_type": "code",
      "source": [
        "action = anime['Genres'].str.contains(pat ='Action')\n",
        "adventure = anime['Genres'].str.contains(pat ='Adventure')\n",
        "cars = anime['Genres'].str.contains(pat ='Cars')\n",
        "comedy = anime['Genres'].str.contains(pat ='Comedy')\n",
        "dementia = anime['Genres'].str.contains(pat ='Dementia')\n",
        "demons = anime['Genres'].str.contains(pat ='Demons')\n",
        "drama = anime['Genres'].str.contains(pat ='Drama')\n",
        "ecchi = anime['Genres'].str.contains(pat ='Ecchi')\n",
        "fantasy = anime['Genres'].str.contains(pat ='Fantasy')\n",
        "game = anime['Genres'].str.contains(pat ='Game')\n",
        "harem = anime['Genres'].str.contains(pat ='Harem')\n",
        "historical = anime['Genres'].str.contains(pat ='Historical')\n",
        "horror = anime['Genres'].str.contains(pat ='Horror')\n",
        "josei = anime['Genres'].str.contains(pat ='Josei')\n",
        "kids = anime['Genres'].str.contains(pat ='Kids')\n",
        "magic = anime['Genres'].str.contains(pat ='Magic')\n",
        "martial_arts = anime['Genres'].str.contains(pat ='Martial Arts')\n",
        "mecha = anime['Genres'].str.contains(pat ='Mecha')\n",
        "military = anime['Genres'].str.contains(pat ='Military')\n",
        "music = anime['Genres'].str.contains(pat ='Music')\n",
        "mystery = anime['Genres'].str.contains(pat ='Mystery')\n",
        "parody = anime['Genres'].str.contains(pat ='Parody')\n",
        "police = anime['Genres'].str.contains(pat ='Police')\n",
        "psychological = anime['Genres'].str.contains(pat ='Psychological')\n",
        "romance = anime['Genres'].str.contains(pat ='Romance')\n",
        "samurai = anime['Genres'].str.contains(pat ='Samurai')\n",
        "school = anime['Genres'].str.contains(pat ='School')\n",
        "sci_fi = anime['Genres'].str.contains(pat ='Sci-Fi')\n",
        "seinen = anime['Genres'].str.contains(pat ='Seinen')\n",
        "shoujo = anime['Genres'].str.contains(pat ='Shoujo')\n",
        "shounen = anime['Genres'].str.contains(pat ='Shounen')\n",
        "slice_of_life = anime['Genres'].str.contains(pat ='Slice of Life')\n",
        "space = anime['Genres'].str.contains(pat ='Space')\n",
        "sports = anime['Genres'].str.contains(pat ='Sport')\n",
        "super_power = anime['Genres'].str.contains(pat ='Super Power')\n",
        "thriller = anime['Genres'].str.contains(pat ='Thriller')\n",
        "vampire = anime['Genres'].str.contains(pat ='Vampire')"
      ],
      "metadata": {
        "id": "8URL80qqw13n"
      },
      "execution_count": 18,
      "outputs": []
    },
    {
      "cell_type": "code",
      "source": [
        "#Menambahkan pengklasifikasi ke dataframe\n",
        "data = anime[['MAL_ID', 'Name', 'Episodes', 'Score', 'Members']]\n",
        "data = data.assign(action = action, adventure = adventure, cars = cars, comedy = comedy, dementia = dementia,\n",
        "               demons = demons, drama = drama, ecchi = ecchi, fantasy = fantasy, game = game, harem = harem,\n",
        "               historical = historical, horror = horror, josei = josei, kids = kids, magic = magic,\n",
        "               martial_arts = martial_arts, mecha = mecha, military = military, music = music, mystery = mystery,\n",
        "               parody = parody, police = police, psychological = psychological, romance = romance,\n",
        "               samurai = samurai, school = school, sci_fi = sci_fi, seinen = seinen, shoujo = shoujo, shounen = shounen,\n",
        "               slice_of_life = slice_of_life, space = space, sports = sports, super_power = super_power,\n",
        "               thriller = thriller, vampire = vampire) "
      ],
      "metadata": {
        "id": "8eWnbn0mySdq"
      },
      "execution_count": 19,
      "outputs": []
    },
    {
      "cell_type": "code",
      "source": [
        "#Membuat dataframe yang rapi\n",
        "data_melted = data.melt(id_vars = ['MAL_ID', 'Name', 'Episodes', 'Score', 'Members'], value_vars = ['action', 'adventure', 'cars', 'comedy',\n",
        "                                                                              'dementia', 'demons', 'drama', 'ecchi',\n",
        "                                                                              'fantasy', 'game', 'harem', 'historical',\n",
        "                                                                              'horror', 'josei', 'kids', 'magic',\n",
        "                                                                              'martial_arts', 'mecha', 'military', 'music',\n",
        "                                                                              'mystery', 'parody', 'police', 'psychological',\n",
        "                                                                              'romance', 'samurai', 'school', 'sci_fi',\n",
        "                                                                              'seinen', 'shoujo', 'shounen', 'slice_of_life',\n",
        "                                                                              'space', 'sports', 'super_power', 'thriller',\n",
        "                                                                              'vampire'])"
      ],
      "metadata": {
        "id": "MyTKBibZykhi"
      },
      "execution_count": 20,
      "outputs": []
    },
    {
      "cell_type": "code",
      "source": [
        "# Menghapus rows yang tidak dibutuhkan\n",
        "\n",
        "data_melted = data_melted.rename(columns = {'variable':'genre'})\n",
        "data_melted = data_melted.loc[data_melted['value'] != False]\n",
        "data_melted = data_melted.drop(columns = 'value')\n",
        "data_melted = data_melted.set_index('MAL_ID')"
      ],
      "metadata": {
        "id": "LsCdBty9zo0b"
      },
      "execution_count": 21,
      "outputs": []
    },
    {
      "cell_type": "code",
      "source": [
        "df = data_melted\n",
        "df.head()"
      ],
      "metadata": {
        "colab": {
          "base_uri": "https://localhost:8080/",
          "height": 237
        },
        "id": "prR6ujA_0uh-",
        "outputId": "37578986-8300-4f3f-b845-d399f9714b01"
      },
      "execution_count": 22,
      "outputs": [
        {
          "output_type": "execute_result",
          "data": {
            "text/plain": [
              "                          Name  Episodes  Score  Members   genre\n",
              "MAL_ID                                                          \n",
              "1                 Cowboy Bebop        26   8.78  1251960  action\n",
              "6                       Trigun        26   8.24   558913  action\n",
              "7           Witch Hunter Robin        26   7.27    94683  action\n",
              "15                Eyeshield 21       145   7.95   148259  action\n",
              "18      Initial D Fourth Stage        24   8.15   117929  action"
            ],
            "text/html": [
              "\n",
              "  <div id=\"df-9d5ccedd-3fa9-4b64-bb96-d49f21290aab\">\n",
              "    <div class=\"colab-df-container\">\n",
              "      <div>\n",
              "<style scoped>\n",
              "    .dataframe tbody tr th:only-of-type {\n",
              "        vertical-align: middle;\n",
              "    }\n",
              "\n",
              "    .dataframe tbody tr th {\n",
              "        vertical-align: top;\n",
              "    }\n",
              "\n",
              "    .dataframe thead th {\n",
              "        text-align: right;\n",
              "    }\n",
              "</style>\n",
              "<table border=\"1\" class=\"dataframe\">\n",
              "  <thead>\n",
              "    <tr style=\"text-align: right;\">\n",
              "      <th></th>\n",
              "      <th>Name</th>\n",
              "      <th>Episodes</th>\n",
              "      <th>Score</th>\n",
              "      <th>Members</th>\n",
              "      <th>genre</th>\n",
              "    </tr>\n",
              "    <tr>\n",
              "      <th>MAL_ID</th>\n",
              "      <th></th>\n",
              "      <th></th>\n",
              "      <th></th>\n",
              "      <th></th>\n",
              "      <th></th>\n",
              "    </tr>\n",
              "  </thead>\n",
              "  <tbody>\n",
              "    <tr>\n",
              "      <th>1</th>\n",
              "      <td>Cowboy Bebop</td>\n",
              "      <td>26</td>\n",
              "      <td>8.78</td>\n",
              "      <td>1251960</td>\n",
              "      <td>action</td>\n",
              "    </tr>\n",
              "    <tr>\n",
              "      <th>6</th>\n",
              "      <td>Trigun</td>\n",
              "      <td>26</td>\n",
              "      <td>8.24</td>\n",
              "      <td>558913</td>\n",
              "      <td>action</td>\n",
              "    </tr>\n",
              "    <tr>\n",
              "      <th>7</th>\n",
              "      <td>Witch Hunter Robin</td>\n",
              "      <td>26</td>\n",
              "      <td>7.27</td>\n",
              "      <td>94683</td>\n",
              "      <td>action</td>\n",
              "    </tr>\n",
              "    <tr>\n",
              "      <th>15</th>\n",
              "      <td>Eyeshield 21</td>\n",
              "      <td>145</td>\n",
              "      <td>7.95</td>\n",
              "      <td>148259</td>\n",
              "      <td>action</td>\n",
              "    </tr>\n",
              "    <tr>\n",
              "      <th>18</th>\n",
              "      <td>Initial D Fourth Stage</td>\n",
              "      <td>24</td>\n",
              "      <td>8.15</td>\n",
              "      <td>117929</td>\n",
              "      <td>action</td>\n",
              "    </tr>\n",
              "  </tbody>\n",
              "</table>\n",
              "</div>\n",
              "      <button class=\"colab-df-convert\" onclick=\"convertToInteractive('df-9d5ccedd-3fa9-4b64-bb96-d49f21290aab')\"\n",
              "              title=\"Convert this dataframe to an interactive table.\"\n",
              "              style=\"display:none;\">\n",
              "        \n",
              "  <svg xmlns=\"http://www.w3.org/2000/svg\" height=\"24px\"viewBox=\"0 0 24 24\"\n",
              "       width=\"24px\">\n",
              "    <path d=\"M0 0h24v24H0V0z\" fill=\"none\"/>\n",
              "    <path d=\"M18.56 5.44l.94 2.06.94-2.06 2.06-.94-2.06-.94-.94-2.06-.94 2.06-2.06.94zm-11 1L8.5 8.5l.94-2.06 2.06-.94-2.06-.94L8.5 2.5l-.94 2.06-2.06.94zm10 10l.94 2.06.94-2.06 2.06-.94-2.06-.94-.94-2.06-.94 2.06-2.06.94z\"/><path d=\"M17.41 7.96l-1.37-1.37c-.4-.4-.92-.59-1.43-.59-.52 0-1.04.2-1.43.59L10.3 9.45l-7.72 7.72c-.78.78-.78 2.05 0 2.83L4 21.41c.39.39.9.59 1.41.59.51 0 1.02-.2 1.41-.59l7.78-7.78 2.81-2.81c.8-.78.8-2.07 0-2.86zM5.41 20L4 18.59l7.72-7.72 1.47 1.35L5.41 20z\"/>\n",
              "  </svg>\n",
              "      </button>\n",
              "      \n",
              "  <style>\n",
              "    .colab-df-container {\n",
              "      display:flex;\n",
              "      flex-wrap:wrap;\n",
              "      gap: 12px;\n",
              "    }\n",
              "\n",
              "    .colab-df-convert {\n",
              "      background-color: #E8F0FE;\n",
              "      border: none;\n",
              "      border-radius: 50%;\n",
              "      cursor: pointer;\n",
              "      display: none;\n",
              "      fill: #1967D2;\n",
              "      height: 32px;\n",
              "      padding: 0 0 0 0;\n",
              "      width: 32px;\n",
              "    }\n",
              "\n",
              "    .colab-df-convert:hover {\n",
              "      background-color: #E2EBFA;\n",
              "      box-shadow: 0px 1px 2px rgba(60, 64, 67, 0.3), 0px 1px 3px 1px rgba(60, 64, 67, 0.15);\n",
              "      fill: #174EA6;\n",
              "    }\n",
              "\n",
              "    [theme=dark] .colab-df-convert {\n",
              "      background-color: #3B4455;\n",
              "      fill: #D2E3FC;\n",
              "    }\n",
              "\n",
              "    [theme=dark] .colab-df-convert:hover {\n",
              "      background-color: #434B5C;\n",
              "      box-shadow: 0px 1px 3px 1px rgba(0, 0, 0, 0.15);\n",
              "      filter: drop-shadow(0px 1px 2px rgba(0, 0, 0, 0.3));\n",
              "      fill: #FFFFFF;\n",
              "    }\n",
              "  </style>\n",
              "\n",
              "      <script>\n",
              "        const buttonEl =\n",
              "          document.querySelector('#df-9d5ccedd-3fa9-4b64-bb96-d49f21290aab button.colab-df-convert');\n",
              "        buttonEl.style.display =\n",
              "          google.colab.kernel.accessAllowed ? 'block' : 'none';\n",
              "\n",
              "        async function convertToInteractive(key) {\n",
              "          const element = document.querySelector('#df-9d5ccedd-3fa9-4b64-bb96-d49f21290aab');\n",
              "          const dataTable =\n",
              "            await google.colab.kernel.invokeFunction('convertToInteractive',\n",
              "                                                     [key], {});\n",
              "          if (!dataTable) return;\n",
              "\n",
              "          const docLinkHtml = 'Like what you see? Visit the ' +\n",
              "            '<a target=\"_blank\" href=https://colab.research.google.com/notebooks/data_table.ipynb>data table notebook</a>'\n",
              "            + ' to learn more about interactive tables.';\n",
              "          element.innerHTML = '';\n",
              "          dataTable['output_type'] = 'display_data';\n",
              "          await google.colab.output.renderOutput(dataTable, element);\n",
              "          const docLink = document.createElement('div');\n",
              "          docLink.innerHTML = docLinkHtml;\n",
              "          element.appendChild(docLink);\n",
              "        }\n",
              "      </script>\n",
              "    </div>\n",
              "  </div>\n",
              "  "
            ]
          },
          "metadata": {},
          "execution_count": 22
        }
      ]
    },
    {
      "cell_type": "markdown",
      "source": [
        "Dataframe utama sudah siap untuk dieksplorasi lebih lanjut."
      ],
      "metadata": {
        "id": "OC0F4A4IwsdR"
      }
    },
    {
      "cell_type": "markdown",
      "source": [
        "# **Eksplorasi dan Visualisasi**\n",
        "Saya ingin tahu apakah durasi pertunjukan dapat memengaruhi skor keseluruhannya. Teori saya adalah bahwa semakin lama anime ditayangkan di TV, maka akan semakin rendah skornya. Misalnya, apakah anime umumnya menjadi lebih baik seiring bertambahnya episode? Apakah anime yang episodenya sedikit lebih disukai daripada anime yang panjang dan berlarut-larut?"
      ],
      "metadata": {
        "id": "Cp963yeYxwQg"
      }
    },
    {
      "cell_type": "code",
      "source": [
        "print('Description of All Anime:')\n",
        "df.describe()"
      ],
      "metadata": {
        "id": "FbUQCDbszNTT",
        "colab": {
          "base_uri": "https://localhost:8080/",
          "height": 319
        },
        "outputId": "6dffd2cd-9799-4a8e-e1f3-a50c9548b506"
      },
      "execution_count": 23,
      "outputs": [
        {
          "output_type": "stream",
          "name": "stdout",
          "text": [
            "Description of All Anime:\n"
          ]
        },
        {
          "output_type": "execute_result",
          "data": {
            "text/plain": [
              "           Episodes         Score       Members\n",
              "count  14208.000000  14208.000000  1.420800e+04\n",
              "mean      29.996622      7.000346  1.415299e+05\n",
              "std       62.951675      0.761811  2.645266e+05\n",
              "min        3.000000      2.180000  3.230000e+02\n",
              "25%       12.000000      6.490000  7.373000e+03\n",
              "50%       13.000000      7.020000  3.731500e+04\n",
              "75%       26.000000      7.490000  1.488868e+05\n",
              "max     1818.000000      9.190000  2.589552e+06"
            ],
            "text/html": [
              "\n",
              "  <div id=\"df-da87773e-8681-404b-a4fc-9cd7e7656163\">\n",
              "    <div class=\"colab-df-container\">\n",
              "      <div>\n",
              "<style scoped>\n",
              "    .dataframe tbody tr th:only-of-type {\n",
              "        vertical-align: middle;\n",
              "    }\n",
              "\n",
              "    .dataframe tbody tr th {\n",
              "        vertical-align: top;\n",
              "    }\n",
              "\n",
              "    .dataframe thead th {\n",
              "        text-align: right;\n",
              "    }\n",
              "</style>\n",
              "<table border=\"1\" class=\"dataframe\">\n",
              "  <thead>\n",
              "    <tr style=\"text-align: right;\">\n",
              "      <th></th>\n",
              "      <th>Episodes</th>\n",
              "      <th>Score</th>\n",
              "      <th>Members</th>\n",
              "    </tr>\n",
              "  </thead>\n",
              "  <tbody>\n",
              "    <tr>\n",
              "      <th>count</th>\n",
              "      <td>14208.000000</td>\n",
              "      <td>14208.000000</td>\n",
              "      <td>1.420800e+04</td>\n",
              "    </tr>\n",
              "    <tr>\n",
              "      <th>mean</th>\n",
              "      <td>29.996622</td>\n",
              "      <td>7.000346</td>\n",
              "      <td>1.415299e+05</td>\n",
              "    </tr>\n",
              "    <tr>\n",
              "      <th>std</th>\n",
              "      <td>62.951675</td>\n",
              "      <td>0.761811</td>\n",
              "      <td>2.645266e+05</td>\n",
              "    </tr>\n",
              "    <tr>\n",
              "      <th>min</th>\n",
              "      <td>3.000000</td>\n",
              "      <td>2.180000</td>\n",
              "      <td>3.230000e+02</td>\n",
              "    </tr>\n",
              "    <tr>\n",
              "      <th>25%</th>\n",
              "      <td>12.000000</td>\n",
              "      <td>6.490000</td>\n",
              "      <td>7.373000e+03</td>\n",
              "    </tr>\n",
              "    <tr>\n",
              "      <th>50%</th>\n",
              "      <td>13.000000</td>\n",
              "      <td>7.020000</td>\n",
              "      <td>3.731500e+04</td>\n",
              "    </tr>\n",
              "    <tr>\n",
              "      <th>75%</th>\n",
              "      <td>26.000000</td>\n",
              "      <td>7.490000</td>\n",
              "      <td>1.488868e+05</td>\n",
              "    </tr>\n",
              "    <tr>\n",
              "      <th>max</th>\n",
              "      <td>1818.000000</td>\n",
              "      <td>9.190000</td>\n",
              "      <td>2.589552e+06</td>\n",
              "    </tr>\n",
              "  </tbody>\n",
              "</table>\n",
              "</div>\n",
              "      <button class=\"colab-df-convert\" onclick=\"convertToInteractive('df-da87773e-8681-404b-a4fc-9cd7e7656163')\"\n",
              "              title=\"Convert this dataframe to an interactive table.\"\n",
              "              style=\"display:none;\">\n",
              "        \n",
              "  <svg xmlns=\"http://www.w3.org/2000/svg\" height=\"24px\"viewBox=\"0 0 24 24\"\n",
              "       width=\"24px\">\n",
              "    <path d=\"M0 0h24v24H0V0z\" fill=\"none\"/>\n",
              "    <path d=\"M18.56 5.44l.94 2.06.94-2.06 2.06-.94-2.06-.94-.94-2.06-.94 2.06-2.06.94zm-11 1L8.5 8.5l.94-2.06 2.06-.94-2.06-.94L8.5 2.5l-.94 2.06-2.06.94zm10 10l.94 2.06.94-2.06 2.06-.94-2.06-.94-.94-2.06-.94 2.06-2.06.94z\"/><path d=\"M17.41 7.96l-1.37-1.37c-.4-.4-.92-.59-1.43-.59-.52 0-1.04.2-1.43.59L10.3 9.45l-7.72 7.72c-.78.78-.78 2.05 0 2.83L4 21.41c.39.39.9.59 1.41.59.51 0 1.02-.2 1.41-.59l7.78-7.78 2.81-2.81c.8-.78.8-2.07 0-2.86zM5.41 20L4 18.59l7.72-7.72 1.47 1.35L5.41 20z\"/>\n",
              "  </svg>\n",
              "      </button>\n",
              "      \n",
              "  <style>\n",
              "    .colab-df-container {\n",
              "      display:flex;\n",
              "      flex-wrap:wrap;\n",
              "      gap: 12px;\n",
              "    }\n",
              "\n",
              "    .colab-df-convert {\n",
              "      background-color: #E8F0FE;\n",
              "      border: none;\n",
              "      border-radius: 50%;\n",
              "      cursor: pointer;\n",
              "      display: none;\n",
              "      fill: #1967D2;\n",
              "      height: 32px;\n",
              "      padding: 0 0 0 0;\n",
              "      width: 32px;\n",
              "    }\n",
              "\n",
              "    .colab-df-convert:hover {\n",
              "      background-color: #E2EBFA;\n",
              "      box-shadow: 0px 1px 2px rgba(60, 64, 67, 0.3), 0px 1px 3px 1px rgba(60, 64, 67, 0.15);\n",
              "      fill: #174EA6;\n",
              "    }\n",
              "\n",
              "    [theme=dark] .colab-df-convert {\n",
              "      background-color: #3B4455;\n",
              "      fill: #D2E3FC;\n",
              "    }\n",
              "\n",
              "    [theme=dark] .colab-df-convert:hover {\n",
              "      background-color: #434B5C;\n",
              "      box-shadow: 0px 1px 3px 1px rgba(0, 0, 0, 0.15);\n",
              "      filter: drop-shadow(0px 1px 2px rgba(0, 0, 0, 0.3));\n",
              "      fill: #FFFFFF;\n",
              "    }\n",
              "  </style>\n",
              "\n",
              "      <script>\n",
              "        const buttonEl =\n",
              "          document.querySelector('#df-da87773e-8681-404b-a4fc-9cd7e7656163 button.colab-df-convert');\n",
              "        buttonEl.style.display =\n",
              "          google.colab.kernel.accessAllowed ? 'block' : 'none';\n",
              "\n",
              "        async function convertToInteractive(key) {\n",
              "          const element = document.querySelector('#df-da87773e-8681-404b-a4fc-9cd7e7656163');\n",
              "          const dataTable =\n",
              "            await google.colab.kernel.invokeFunction('convertToInteractive',\n",
              "                                                     [key], {});\n",
              "          if (!dataTable) return;\n",
              "\n",
              "          const docLinkHtml = 'Like what you see? Visit the ' +\n",
              "            '<a target=\"_blank\" href=https://colab.research.google.com/notebooks/data_table.ipynb>data table notebook</a>'\n",
              "            + ' to learn more about interactive tables.';\n",
              "          element.innerHTML = '';\n",
              "          dataTable['output_type'] = 'display_data';\n",
              "          await google.colab.output.renderOutput(dataTable, element);\n",
              "          const docLink = document.createElement('div');\n",
              "          docLink.innerHTML = docLinkHtml;\n",
              "          element.appendChild(docLink);\n",
              "        }\n",
              "      </script>\n",
              "    </div>\n",
              "  </div>\n",
              "  "
            ]
          },
          "metadata": {},
          "execution_count": 23
        }
      ]
    },
    {
      "cell_type": "code",
      "source": [
        "sns.distplot(df['Score']).set_title('Distribusi Skor Untuk Setiap Anime')"
      ],
      "metadata": {
        "colab": {
          "base_uri": "https://localhost:8080/",
          "height": 370
        },
        "id": "H_mfp6yYyIOh",
        "outputId": "6ee6dcf8-c02a-4310-cc1f-f78a3412468c"
      },
      "execution_count": 24,
      "outputs": [
        {
          "output_type": "stream",
          "name": "stderr",
          "text": [
            "/usr/local/lib/python3.8/dist-packages/seaborn/distributions.py:2619: FutureWarning: `distplot` is a deprecated function and will be removed in a future version. Please adapt your code to use either `displot` (a figure-level function with similar flexibility) or `histplot` (an axes-level function for histograms).\n",
            "  warnings.warn(msg, FutureWarning)\n"
          ]
        },
        {
          "output_type": "execute_result",
          "data": {
            "text/plain": [
              "Text(0.5, 1.0, 'Distribusi Skor Untuk Setiap Anime')"
            ]
          },
          "metadata": {},
          "execution_count": 24
        },
        {
          "output_type": "display_data",
          "data": {
            "text/plain": [
              "<Figure size 432x288 with 1 Axes>"
            ],
            "image/png": "[encoded data removed]"
          },
          "metadata": {
            "needs_background": "light"
          }
        }
      ]
    },
    {
      "cell_type": "code",
      "source": [
        "# Melihat rata-rata skor untuk setiap genre\n",
        "prop_df = (df['Score']\n",
        "           .groupby(df['genre'])\n",
        "           .mean()\n",
        "           .rename('Rata-rata', inplace = True)\n",
        "           .reset_index())\n",
        "\n",
        "plt.figure(figsize = (6,8))    \n",
        "\n",
        "sns.barplot(x = 'Rata-rata', y = 'genre', data = prop_df).set_title('Rata-rata Skor Berdasarkan Genre')\n",
        "\n",
        "plt.xlim(0, 10)"
      ],
      "metadata": {
        "colab": {
          "base_uri": "https://localhost:8080/",
          "height": 531
        },
        "id": "t1GH34iBzB6x",
        "outputId": "8b51c558-bae9-4c86-e64a-ed3673043805"
      },
      "execution_count": 26,
      "outputs": [
        {
          "output_type": "execute_result",
          "data": {
            "text/plain": [
              "(0.0, 10.0)"
            ]
          },
          "metadata": {},
          "execution_count": 26
        },
        {
          "output_type": "display_data",
          "data": {
            "text/plain": [
              "<Figure size 432x576 with 1 Axes>"
            ],
            "image/png": "[encoded data removed]"
          },
          "metadata": {
            "needs_background": "light"
          }
        }
      ]
    },
    {
      "cell_type": "code",
      "source": [
        "# Rata-rata total episode berdasarkan genre\n",
        "prop_df2 = (df['Episodes']\n",
        "           .groupby(df['genre'])\n",
        "           .mean()\n",
        "           .rename('Rata-rata', inplace = True)\n",
        "           .reset_index())\n",
        "\n",
        "plt.figure(figsize = (6,8))    \n",
        "\n",
        "sns.barplot(x = 'Rata-rata', y = 'genre', data = prop_df2).set_title('Rata-rata Episode Berdasarkan Genre')"
      ],
      "metadata": {
        "colab": {
          "base_uri": "https://localhost:8080/",
          "height": 531
        },
        "id": "5R6SljpEzZqc",
        "outputId": "bf521198-9288-422d-cff6-a64d030c3da3"
      },
      "execution_count": 27,
      "outputs": [
        {
          "output_type": "execute_result",
          "data": {
            "text/plain": [
              "Text(0.5, 1.0, 'Rata-rata Episode Berdasarkan Genre')"
            ]
          },
          "metadata": {},
          "execution_count": 27
        },
        {
          "output_type": "display_data",
          "data": {
            "text/plain": [
              "<Figure size 432x576 with 1 Axes>"
            ],
            "image/png": "[encoded data removed]"
          },
          "metadata": {
            "needs_background": "light"
          }
        }
      ]
    },
    {
      "cell_type": "markdown",
      "source": [
        "Ini menarik. Selain memiliki skor yang paling rendah, tapi anime dengan genre anak-anak memiliki rata-rata episode yang paling tinggi. Bisa dikatakan bahwa teori saya sebelumnya benar."
      ],
      "metadata": {
        "id": "8xRllZ8g1H-2"
      }
    },
    {
      "cell_type": "markdown",
      "source": [
        "# **Sistem Rekomendasi**\n",
        "Sistem rekomendasi ini akan menggunakan persamaan kosinus antara genre, skor, total episode, dan total anggota sebagai fitur. "
      ],
      "metadata": {
        "id": "eq5iaT6n5bmu"
      }
    },
    {
      "cell_type": "code",
      "source": [
        "# Memilih kolom yang dibutuhkan\n",
        "anime = anime[['Name', 'Score','Episodes','Genres', 'Members']]\n",
        "anime.head()"
      ],
      "metadata": {
        "colab": {
          "base_uri": "https://localhost:8080/",
          "height": 206
        },
        "id": "1FXcsOPb1RzJ",
        "outputId": "43fa6c06-a033-40a8-caea-8659db6b5474"
      },
      "execution_count": null,
      "outputs": [
        {
          "output_type": "execute_result",
          "data": {
            "text/plain": [
              "                 Name  Score  Episodes  \\\n",
              "0        Cowboy Bebop   8.78        26   \n",
              "2              Trigun   8.24        26   \n",
              "3  Witch Hunter Robin   7.27        26   \n",
              "4      Bouken Ou Beet   6.98        52   \n",
              "5        Eyeshield 21   7.95       145   \n",
              "\n",
              "                                              Genres  Members  \n",
              "0    Action, Adventure, Comedy, Drama, Sci-Fi, Space  1251960  \n",
              "2  Action, Sci-Fi, Adventure, Comedy, Drama, Shounen   558913  \n",
              "3  Action, Mystery, Police, Supernatural, Drama, ...    94683  \n",
              "4          Adventure, Fantasy, Shounen, Supernatural    13224  \n",
              "5                    Action, Sports, Comedy, Shounen   148259  "
            ],
            "text/html": [
              "\n",
              "  <div id=\"df-3a901ef2-22a4-400e-9d34-b741c01f92ab\">\n",
              "    <div class=\"colab-df-container\">\n",
              "      <div>\n",
              "<style scoped>\n",
              "    .dataframe tbody tr th:only-of-type {\n",
              "        vertical-align: middle;\n",
              "    }\n",
              "\n",
              "    .dataframe tbody tr th {\n",
              "        vertical-align: top;\n",
              "    }\n",
              "\n",
              "    .dataframe thead th {\n",
              "        text-align: right;\n",
              "    }\n",
              "</style>\n",
              "<table border=\"1\" class=\"dataframe\">\n",
              "  <thead>\n",
              "    <tr style=\"text-align: right;\">\n",
              "      <th></th>\n",
              "      <th>Name</th>\n",
              "      <th>Score</th>\n",
              "      <th>Episodes</th>\n",
              "      <th>Genres</th>\n",
              "      <th>Members</th>\n",
              "    </tr>\n",
              "  </thead>\n",
              "  <tbody>\n",
              "    <tr>\n",
              "      <th>0</th>\n",
              "      <td>Cowboy Bebop</td>\n",
              "      <td>8.78</td>\n",
              "      <td>26</td>\n",
              "      <td>Action, Adventure, Comedy, Drama, Sci-Fi, Space</td>\n",
              "      <td>1251960</td>\n",
              "    </tr>\n",
              "    <tr>\n",
              "      <th>2</th>\n",
              "      <td>Trigun</td>\n",
              "      <td>8.24</td>\n",
              "      <td>26</td>\n",
              "      <td>Action, Sci-Fi, Adventure, Comedy, Drama, Shounen</td>\n",
              "      <td>558913</td>\n",
              "    </tr>\n",
              "    <tr>\n",
              "      <th>3</th>\n",
              "      <td>Witch Hunter Robin</td>\n",
              "      <td>7.27</td>\n",
              "      <td>26</td>\n",
              "      <td>Action, Mystery, Police, Supernatural, Drama, ...</td>\n",
              "      <td>94683</td>\n",
              "    </tr>\n",
              "    <tr>\n",
              "      <th>4</th>\n",
              "      <td>Bouken Ou Beet</td>\n",
              "      <td>6.98</td>\n",
              "      <td>52</td>\n",
              "      <td>Adventure, Fantasy, Shounen, Supernatural</td>\n",
              "      <td>13224</td>\n",
              "    </tr>\n",
              "    <tr>\n",
              "      <th>5</th>\n",
              "      <td>Eyeshield 21</td>\n",
              "      <td>7.95</td>\n",
              "      <td>145</td>\n",
              "      <td>Action, Sports, Comedy, Shounen</td>\n",
              "      <td>148259</td>\n",
              "    </tr>\n",
              "  </tbody>\n",
              "</table>\n",
              "</div>\n",
              "      <button class=\"colab-df-convert\" onclick=\"convertToInteractive('df-3a901ef2-22a4-400e-9d34-b741c01f92ab')\"\n",
              "              title=\"Convert this dataframe to an interactive table.\"\n",
              "              style=\"display:none;\">\n",
              "        \n",
              "  <svg xmlns=\"http://www.w3.org/2000/svg\" height=\"24px\"viewBox=\"0 0 24 24\"\n",
              "       width=\"24px\">\n",
              "    <path d=\"M0 0h24v24H0V0z\" fill=\"none\"/>\n",
              "    <path d=\"M18.56 5.44l.94 2.06.94-2.06 2.06-.94-2.06-.94-.94-2.06-.94 2.06-2.06.94zm-11 1L8.5 8.5l.94-2.06 2.06-.94-2.06-.94L8.5 2.5l-.94 2.06-2.06.94zm10 10l.94 2.06.94-2.06 2.06-.94-2.06-.94-.94-2.06-.94 2.06-2.06.94z\"/><path d=\"M17.41 7.96l-1.37-1.37c-.4-.4-.92-.59-1.43-.59-.52 0-1.04.2-1.43.59L10.3 9.45l-7.72 7.72c-.78.78-.78 2.05 0 2.83L4 21.41c.39.39.9.59 1.41.59.51 0 1.02-.2 1.41-.59l7.78-7.78 2.81-2.81c.8-.78.8-2.07 0-2.86zM5.41 20L4 18.59l7.72-7.72 1.47 1.35L5.41 20z\"/>\n",
              "  </svg>\n",
              "      </button>\n",
              "      \n",
              "  <style>\n",
              "    .colab-df-container {\n",
              "      display:flex;\n",
              "      flex-wrap:wrap;\n",
              "      gap: 12px;\n",
              "    }\n",
              "\n",
              "    .colab-df-convert {\n",
              "      background-color: #E8F0FE;\n",
              "      border: none;\n",
              "      border-radius: 50%;\n",
              "      cursor: pointer;\n",
              "      display: none;\n",
              "      fill: #1967D2;\n",
              "      height: 32px;\n",
              "      padding: 0 0 0 0;\n",
              "      width: 32px;\n",
              "    }\n",
              "\n",
              "    .colab-df-convert:hover {\n",
              "      background-color: #E2EBFA;\n",
              "      box-shadow: 0px 1px 2px rgba(60, 64, 67, 0.3), 0px 1px 3px 1px rgba(60, 64, 67, 0.15);\n",
              "      fill: #174EA6;\n",
              "    }\n",
              "\n",
              "    [theme=dark] .colab-df-convert {\n",
              "      background-color: #3B4455;\n",
              "      fill: #D2E3FC;\n",
              "    }\n",
              "\n",
              "    [theme=dark] .colab-df-convert:hover {\n",
              "      background-color: #434B5C;\n",
              "      box-shadow: 0px 1px 3px 1px rgba(0, 0, 0, 0.15);\n",
              "      filter: drop-shadow(0px 1px 2px rgba(0, 0, 0, 0.3));\n",
              "      fill: #FFFFFF;\n",
              "    }\n",
              "  </style>\n",
              "\n",
              "      <script>\n",
              "        const buttonEl =\n",
              "          document.querySelector('#df-3a901ef2-22a4-400e-9d34-b741c01f92ab button.colab-df-convert');\n",
              "        buttonEl.style.display =\n",
              "          google.colab.kernel.accessAllowed ? 'block' : 'none';\n",
              "\n",
              "        async function convertToInteractive(key) {\n",
              "          const element = document.querySelector('#df-3a901ef2-22a4-400e-9d34-b741c01f92ab');\n",
              "          const dataTable =\n",
              "            await google.colab.kernel.invokeFunction('convertToInteractive',\n",
              "                                                     [key], {});\n",
              "          if (!dataTable) return;\n",
              "\n",
              "          const docLinkHtml = 'Like what you see? Visit the ' +\n",
              "            '<a target=\"_blank\" href=https://colab.research.google.com/notebooks/data_table.ipynb>data table notebook</a>'\n",
              "            + ' to learn more about interactive tables.';\n",
              "          element.innerHTML = '';\n",
              "          dataTable['output_type'] = 'display_data';\n",
              "          await google.colab.output.renderOutput(dataTable, element);\n",
              "          const docLink = document.createElement('div');\n",
              "          docLink.innerHTML = docLinkHtml;\n",
              "          element.appendChild(docLink);\n",
              "        }\n",
              "      </script>\n",
              "    </div>\n",
              "  </div>\n",
              "  "
            ]
          },
          "metadata": {},
          "execution_count": 35
        }
      ]
    },
    {
      "cell_type": "markdown",
      "source": [
        "Karena semua teks dalam setiap kolom ini relevan untuk rekomendasi, kita tidak perlu lagi membersihkan kolom. Semua titik data akan digabungkan menjadi satu kolom agar sesuai dengan rekomendasi berbasis cosinus similarity."
      ],
      "metadata": {
        "id": "dx7Byz1Y68dH"
      }
    },
    {
      "cell_type": "code",
      "source": [
        "# Menghapus koma\n",
        "anime['Genres'] = anime['Genres'].str.replace(',','')\n",
        "\n",
        "# mengubah kolom menjadi strings\n",
        "anime['Score'] = anime['Score'].astype(str)\n",
        "anime['Episodes'] = anime['Episodes'].astype(str)\n",
        "anime['Members'] = anime['Members'].astype(str)\n",
        "\n",
        "# menggabungkan semua kolom yang relevan menjadi kolom kunci\n",
        "anime['Keys'] = anime['Genres'] + ' ' + anime['Score'] + ' ' + anime['Episodes'] + ' ' + anime['Members']\n",
        "anime = anime[['Name', 'Keys']]\n",
        "anime.head()"
      ],
      "metadata": {
        "id": "aKTMzpyQ5idm"
      },
      "execution_count": null,
      "outputs": []
    },
    {
      "cell_type": "code",
      "source": [
        "# Vektorisasi kolom kunci\n",
        "count = CountVectorizer()\n",
        "count_matrix = count.fit_transform(anime['Keys'])\n",
        "\n",
        "# Menghasilkan matriks persamaan kosinus\n",
        "cosine_sim = cosine_similarity(count_matrix, count_matrix)"
      ],
      "metadata": {
        "id": "w6ymPq-z8fsF"
      },
      "execution_count": null,
      "outputs": []
    },
    {
      "cell_type": "code",
      "source": [
        "# Mengubah indek dataset menjadi nama anime\n",
        "anime = anime.set_index('Name')"
      ],
      "metadata": {
        "id": "p1B6CHYP9FNQ"
      },
      "execution_count": null,
      "outputs": []
    },
    {
      "cell_type": "code",
      "source": [
        "indices = pd.Series(anime.index)\n",
        "\n",
        "#  Membuat fungsi yang menggunakan judul anime sebagai input dan menampilkan 10 anime teratas yang direkomendasikan\n",
        "def recommendations(title, cosine_sim = cosine_sim):\n",
        "    \n",
        "    recommended_anime = []\n",
        "    \n",
        "    idx = indices[indices == title].index[0]\n",
        "\n",
        "    score_series = pd.Series(cosine_sim[idx]).sort_values(ascending = False)\n",
        "\n",
        "    top_10 = list(score_series.iloc[1:11].index)\n",
        "    \n",
        "    for i in top_10:\n",
        "        recommended_anime.append(list(anime.index)[i])\n",
        "        \n",
        "    return recommended_anime"
      ],
      "metadata": {
        "id": "n1L1f-hG9G3s"
      },
      "execution_count": null,
      "outputs": []
    },
    {
      "cell_type": "code",
      "source": [
        "# Rekomendasi untuk anime \"Naruto\"\n",
        "recommendations('Naruto')"
      ],
      "metadata": {
        "colab": {
          "base_uri": "https://localhost:8080/"
        },
        "id": "mZpxw-269OnU",
        "outputId": "9d9c3e6f-1445-432f-b959-cfe306899a80"
      },
      "execution_count": null,
      "outputs": [
        {
          "output_type": "execute_result",
          "data": {
            "text/plain": [
              "['Naruto: Shippuuden',\n",
              " 'Dragon Ball Kai (2014)',\n",
              " 'Dragon Ball Z',\n",
              " 'Dragon Ball Kai',\n",
              " 'Dragon Ball Super',\n",
              " 'Dragon Ball',\n",
              " 'Rekka no Honoo',\n",
              " 'Virtua Fighter',\n",
              " 'Medaka Box',\n",
              " 'Medaka Box Abnormal']"
            ]
          },
          "metadata": {},
          "execution_count": 40
        }
      ]
    },
    {
      "cell_type": "markdown",
      "source": [
        "# **Evaluasi**\n",
        "Membandingkan hasil ini dengan yang ada di MyAnimeList.com, kita dapat melihat bahwa model ini menghasilkan hasil yang cukup mirip! Meskipun MyAnimeList menggunakan metode collaborative-filtering yang kombinasikan dengan rekomendasi pengguna langsung, model saya masih berhasil memberikan hasil yang relevan. Misalnya, dalam kasus Naruto, rekomendasi Dragon Ball tampaknya mendominasi 10 Teratas. Ini sepertinya harus diperbaiki karena pencipta Naruto besar dengan menonton Dragon Ball dan anime naruto sangat terinspirasi oleh Dragon Ball. Banyak kesamaan yang bisa dilihat di kedua anime tersebut.\n",
        "\n",
        "# **Kesimpulan**\n",
        "Secara keseluruhan, proyek ini mengajari saya beberapa hal baru dan membantu saya mengidentifikasi lebih jauh kelemahan yang dapat ditimbulkan oleh pendekatan data science tertentu. Saya berharap dikemudian hari akan mengevaluasi proyek ini lagi untuk melihat apakah penilaian saya untuk proyek ini akan berubah. BTW, Ookami to Koushinryou (Spice and Wolf) adalah anime favorit saya."
      ],
      "metadata": {
        "id": "Z7UUjKuK_dy0"
      }
    },
    {
      "cell_type": "code",
      "source": [
        "# Rekomendasi anime untuk orang yang suka \"Ookami to Koushinryou\" :)\n",
        "recommendations('Ookami to Koushinryou')"
      ],
      "metadata": {
        "colab": {
          "base_uri": "https://localhost:8080/"
        },
        "id": "SCNmgsmE_zf8",
        "outputId": "e1ace2ac-a781-4f68-fd05-86bb1cae2aaa"
      },
      "execution_count": null,
      "outputs": [
        {
          "output_type": "execute_result",
          "data": {
            "text/plain": [
              "['Wellber no Monogatari: Sisters of Wellber Zwei',\n",
              " 'Tales of Eternia The Animation',\n",
              " 'Kidou Shinsengumi Moeyo Ken TV',\n",
              " 'Ookami to Koushinryou II',\n",
              " 'Granblue Fantasy The Animation',\n",
              " 'Dungeon ni Deai wo Motomeru no wa Machigatteiru Darou ka',\n",
              " 'Madan no Ou to Vanadis',\n",
              " 'Groove Adventure Rave',\n",
              " 'Sengoku Night Blood',\n",
              " 'Seisen Cerberus: Ryuukoku no Fatalités']"
            ]
          },
          "metadata": {},
          "execution_count": 41
        }
      ]
    }
  ]
}